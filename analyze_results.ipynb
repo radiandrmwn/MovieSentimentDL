{
 "cells": [
  {
   "cell_type": "markdown",
   "metadata": {},
   "source": [
    "# Sentiment Analysis Results Analysis\n",
    "## Comparing LSTM Models on 1.2M Amazon Reviews"
   ]
  },
  {
   "cell_type": "code",
   "execution_count": null,
   "metadata": {},
   "outputs": [],
   "source": [
    "import pickle\n",
    "import pandas as pd\n",
    "import matplotlib.pyplot as plt\n",
    "import seaborn as sns\n",
    "import os\n",
    "\n",
    "sns.set_style('whitegrid')\n",
    "plt.rcParams['figure.figsize'] = (12, 6)"
   ]
  },
  {
   "cell_type": "markdown",
   "metadata": {},
   "source": [
    "## Load Results from All Models"
   ]
  },
  {
   "cell_type": "code",
   "execution_count": null,
   "metadata": {},
   "outputs": [],
   "source": [
    "models = {\n",
    "    'LSTM + Word2Vec (Baseline)': 'results/lstm_word2vec/results.pkl',\n",
    "    'Bi-LSTM': 'results/bilstm/results.pkl',\n",
    "    'LSTM + Attention': 'results/lstm_attention/results.pkl',\n",
    "    'GRU': 'results/gru/results.pkl'\n",
    "}\n",
    "\n",
    "results = {}\n",
    "for name, path in models.items():\n",
    "    if os.path.exists(path):\n",
    "        with open(path, 'rb') as f:\n",
    "            results[name] = pickle.load(f)\n",
    "    else:\n",
    "        print(f\"Warning: {path} not found. Train this model first.\")"
   ]
  },
  {
   "cell_type": "markdown",
   "metadata": {},
   "source": [
    "## Comparison Table"
   ]
  },
  {
   "cell_type": "code",
   "execution_count": null,
   "metadata": {},
   "outputs": [],
   "source": [
    "# Create comparison table\n",
    "comparison = []\n",
    "\n",
    "# Add previous work (Bodapati et al. 2019)\n",
    "comparison.append({\n",
    "    'Model': 'Bodapati et al. (2019)',\n",
    "    'Dataset Size': '50K',\n",
    "    'Test Accuracy': 0.8846,\n",
    "    'Notes': 'Previous work (IMDB dataset)'\n",
    "})\n",
    "\n",
    "# Add our results\n",
    "for name, res in results.items():\n",
    "    comparison.append({\n",
    "        'Model': name,\n",
    "        'Dataset Size': '1.2M',\n",
    "        'Test Accuracy': res['test_accuracy'],\n",
    "        'Notes': 'Our work (Amazon reviews)'\n",
    "    })\n",
    "\n",
    "df_comparison = pd.DataFrame(comparison)\n",
    "df_comparison['Test Accuracy'] = df_comparison['Test Accuracy'].apply(lambda x: f\"{x:.4f}\")\n",
    "df_comparison"
   ]
  },
  {
   "cell_type": "markdown",
   "metadata": {},
   "source": [
    "## Accuracy Comparison Chart"
   ]
  },
  {
   "cell_type": "code",
   "execution_count": null,
   "metadata": {},
   "outputs": [],
   "source": [
    "plt.figure(figsize=(10, 6))\n",
    "\n",
    "# Plot baseline from previous work\n",
    "plt.axhline(y=0.8846, color='red', linestyle='--', label='Bodapati et al. (2019) - 50K', linewidth=2)\n",
    "\n",
    "# Plot our results\n",
    "model_names = list(results.keys())\n",
    "accuracies = [results[name]['test_accuracy'] for name in model_names]\n",
    "\n",
    "bars = plt.bar(model_names, accuracies, alpha=0.7, color=['blue', 'green', 'orange', 'purple'])\n",
    "\n",
    "# Add value labels on bars\n",
    "for bar in bars:\n",
    "    height = bar.get_height()\n",
    "    plt.text(bar.get_x() + bar.get_width()/2., height,\n",
    "             f'{height:.4f}',\n",
    "             ha='center', va='bottom')\n",
    "\n",
    "plt.xlabel('Model', fontsize=12)\n",
    "plt.ylabel('Test Accuracy', fontsize=12)\n",
    "plt.title('Model Comparison: Our Work (1.2M) vs Previous Work (50K)', fontsize=14)\n",
    "plt.xticks(rotation=45, ha='right')\n",
    "plt.legend()\n",
    "plt.tight_layout()\n",
    "plt.savefig('results/accuracy_comparison.png', dpi=300, bbox_inches='tight')\n",
    "plt.show()"
   ]
  },
  {
   "cell_type": "markdown",
   "metadata": {},
   "source": [
    "## Training History"
   ]
  },
  {
   "cell_type": "code",
   "execution_count": null,
   "metadata": {},
   "outputs": [],
   "source": [
    "fig, axes = plt.subplots(2, 2, figsize=(14, 10))\n",
    "axes = axes.flatten()\n",
    "\n",
    "for idx, (name, res) in enumerate(results.items()):\n",
    "    history = res['history']\n",
    "    \n",
    "    ax = axes[idx]\n",
    "    ax.plot(history['accuracy'], label='Train Accuracy')\n",
    "    ax.plot(history['val_accuracy'], label='Val Accuracy')\n",
    "    ax.set_xlabel('Epoch')\n",
    "    ax.set_ylabel('Accuracy')\n",
    "    ax.set_title(name)\n",
    "    ax.legend()\n",
    "    ax.grid(True)\n",
    "\n",
    "plt.tight_layout()\n",
    "plt.savefig('results/training_history.png', dpi=300, bbox_inches='tight')\n",
    "plt.show()"
   ]
  },
  {
   "cell_type": "markdown",
   "metadata": {},
   "source": [
    "## Key Findings\n",
    "\n",
    "### Impact of Dataset Size\n",
    "- Previous work (Bodapati et al. 2019): 88.46% on 50K reviews\n",
    "- Our baseline LSTM: ~XX% on 1.2M reviews\n",
    "- **Improvement from larger dataset: +X.X%**\n",
    "\n",
    "### Impact of Model Improvements\n",
    "- Best performing model: [To be filled after training]\n",
    "- Improvement over baseline: +X.X%\n",
    "\n",
    "### Conclusions\n",
    "1. Larger dataset (24x) improves LSTM performance\n",
    "2. Modern improvements (Bi-LSTM, Attention) provide additional gains\n",
    "3. Best model achieves XX% accuracy on 1.2M reviews"
   ]
  }
 ],
 "metadata": {
  "kernelspec": {
   "display_name": "Python 3",
   "language": "python",
   "name": "python3"
  },
  "language_info": {
   "name": "python",
   "version": "3.12.0"
  }
 },
 "nbformat": 4,
 "nbformat_minor": 2
}
